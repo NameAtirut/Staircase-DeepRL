{
 "cells": [
  {
   "cell_type": "markdown",
   "metadata": {},
   "source": [
    "# 0. Install Dependencies"
   ]
  },
  {
   "cell_type": "code",
   "execution_count": null,
   "metadata": {
    "collapsed": true
   },
   "outputs": [],
   "source": [
    "!pip install tensorflow==2.3.0\n",
    "!pip install gym\n",
    "!pip install keras\n",
    "!pip install keras-rl2"
   ]
  },
  {
   "cell_type": "markdown",
   "metadata": {},
   "source": [
    "# 1. Test Random Environment with OpenAI Gym"
   ]
  },
  {
   "cell_type": "code",
   "execution_count": 1,
   "metadata": {},
   "outputs": [],
   "source": [
    "from gym import Env\n",
    "from gym.spaces import Discrete, Box\n",
    "import numpy as np\n",
    "import random\n",
    "# import cv2\n",
    "import matplotlib.pyplot as plt"
   ]
  },
  {
   "cell_type": "code",
   "execution_count": 32,
   "metadata": {},
   "outputs": [],
   "source": [
    "class StaircaseEnv(Env):\n",
    "    def __init__(self):\n",
    "        # Actions we can take\n",
    "        self.action_space = Discrete(7)\n",
    "        # Observation array\n",
    "        self.observation_space = Box(low=np.array([0]),high=np.array([20]))\n",
    "        # Set start point\n",
    "        self.state = 10\n",
    "        # Set time length\n",
    "        self.num_step = 0\n",
    "        \n",
    "        self.target = 10 + random.randint(-10,10)\n",
    "        self.previous_dist = abs(self.state - self.target)\n",
    "        \n",
    "    def step(self, action):\n",
    "        # Apply action (0, +/-1, +/-2, +/-3)\n",
    "        self.state += action-3\n",
    "        self.num_step += 1\n",
    "        reward = 0 - (0.1*self.num_step)\n",
    "        \n",
    "        # Calculate reward\n",
    "        self.current_dist = abs(self.state - self.target)\n",
    "        if self.current_dist < self.previous_dist:\n",
    "            reward += 3\n",
    "        else:\n",
    "            reward -= 1\n",
    "        \n",
    "        self.previous_dist = self.current_dist\n",
    "        # Check if the test is done\n",
    "        if self.state == self.target:\n",
    "            done=True\n",
    "            reward += 5\n",
    "        else: done=False\n",
    "        \n",
    "        # Set placeholder for info\n",
    "        info = {}\n",
    "        \n",
    "        # Return step information\n",
    "        return self.state,reward, done, info\n",
    "\n",
    "    def render(self):\n",
    "        # Implement viz\n",
    "        pass\n",
    "    \n",
    "    def reset(self):\n",
    "        # Reset state\n",
    "        self.state = 10\n",
    "        # Reset num_step\n",
    "        self.num_step = 0\n",
    "        return self.state"
   ]
  },
  {
   "cell_type": "code",
   "execution_count": 33,
   "metadata": {},
   "outputs": [],
   "source": [
    "env = StaircaseEnv()"
   ]
  },
  {
   "cell_type": "code",
   "execution_count": 40,
   "metadata": {},
   "outputs": [
    {
     "name": "stdout",
     "output_type": "stream",
     "text": [
      "2 steps taken\n",
      "Episode:1 Score:6.699999999999999\n",
      "2 steps taken\n",
      "Episode:2 Score:6.699999999999999\n",
      "1 steps taken\n",
      "Episode:3 Score:3.9\n",
      "2 steps taken\n",
      "Episode:4 Score:6.699999999999999\n",
      "1 steps taken\n",
      "Episode:5 Score:3.9\n",
      "15 steps taken\n",
      "Episode:6 Score:1.9999999999999991\n",
      "2 steps taken\n",
      "Episode:7 Score:6.699999999999999\n",
      "327 steps taken\n",
      "Episode:8 Score:-5108.8\n",
      "56 steps taken\n",
      "Episode:9 Score:-106.6\n",
      "7 steps taken\n",
      "Episode:10 Score:7.2\n"
     ]
    }
   ],
   "source": [
    "## Naive walking\n",
    "episodes = 10\n",
    "for episode in range(1, episodes+1):\n",
    "    state = env.reset()\n",
    "    done = False\n",
    "    score = 0 \n",
    "    while not done:\n",
    "        #env.render()\n",
    "        action = env.action_space.sample()\n",
    "        n_state,reward, done, info = env.step(action)\n",
    "        score+=reward\n",
    "    print(f'{env.num_step} steps taken')\n",
    "    print('Episode:{} Score:{}'.format(episode, score))"
   ]
  },
  {
   "cell_type": "markdown",
   "metadata": {},
   "source": [
    "# 2. Create a Deep Learning Model with Keras"
   ]
  },
  {
   "cell_type": "code",
   "execution_count": 39,
   "metadata": {},
   "outputs": [],
   "source": [
    "import numpy as np\n",
    "from tensorflow.keras.models import Sequential\n",
    "from tensorflow.keras.layers import Dense, Flatten, Dropout, LayerNormalization\n",
    "from tensorflow.keras.optimizers import Adam"
   ]
  },
  {
   "cell_type": "code",
   "execution_count": 44,
   "metadata": {},
   "outputs": [
    {
     "name": "stdout",
     "output_type": "stream",
     "text": [
      "(1,)\n"
     ]
    }
   ],
   "source": [
    "states = env.observation_space.shape\n",
    "actions = env.action_space.n\n",
    "print(states)"
   ]
  },
  {
   "cell_type": "code",
   "execution_count": 45,
   "metadata": {},
   "outputs": [],
   "source": [
    "def build_model(states, actions):\n",
    "    initialiser = tf.keras.initializers.HeNormal(seed=42)\n",
    "    model = Sequential()    \n",
    "    model.add(Dense(32, activation='relu', kernel_initializer=initialiser,input_shape=(states)))\n",
    "    model.add(LayerNormalization())\n",
    "    model.add(Dense(32, activation='relu',kernel_initializer=initialiser))\n",
    "    model.add(Dropout(0.2))\n",
    "    model.add(Dense(actions, activation='linear'))\n",
    "    return model"
   ]
  },
  {
   "cell_type": "markdown",
   "metadata": {},
   "source": [
    "# 3. Build Agent with Keras-RL"
   ]
  },
  {
   "cell_type": "code",
   "execution_count": 35,
   "metadata": {},
   "outputs": [],
   "source": [
    "from rl.agents import DQNAgent\n",
    "from rl.policy import BoltzmannQPolicy\n",
    "from rl.memory import SequentialMemory"
   ]
  },
  {
   "cell_type": "code",
   "execution_count": 46,
   "metadata": {},
   "outputs": [],
   "source": [
    "def build_agent(model, actions):\n",
    "    policy = BoltzmannQPolicy()\n",
    "    memory = SequentialMemory(limit=500000, window_length=1)\n",
    "    dqn = DQNAgent(\n",
    "        model=model, \n",
    "        memory=memory,\n",
    "        policy=policy, \n",
    "        test_policy=policy, \n",
    "        enable_double_dqn=True,\n",
    "        nb_actions=actions, \n",
    "        nb_steps_warmup=1000, \n",
    "        target_model_update=1e-2\n",
    "        )\n",
    "    return dqn"
   ]
  },
  {
   "cell_type": "code",
   "execution_count": 47,
   "metadata": {},
   "outputs": [
    {
     "name": "stderr",
     "output_type": "stream",
     "text": [
      "C:\\Users\\namea\\AppData\\Roaming\\Python\\Python38\\site-packages\\keras\\optimizer_v2\\adam.py:105: UserWarning: The `lr` argument is deprecated, use `learning_rate` instead.\n",
      "  super(Adam, self).__init__(name, **kwargs)\n"
     ]
    },
    {
     "name": "stdout",
     "output_type": "stream",
     "text": [
      "Training for 500000 steps ...\n",
      "Interval 1 (0 steps performed)\n"
     ]
    },
    {
     "name": "stderr",
     "output_type": "stream",
     "text": [
      "C:\\Users\\namea\\AppData\\Roaming\\Python\\Python38\\site-packages\\keras\\engine\\training_v1.py:2079: UserWarning: `Model.state_updates` will be removed in a future version. This property should not be used in TensorFlow 2.0, as `updates` are applied automatically.\n",
      "  updates=self.state_updates,\n"
     ]
    },
    {
     "name": "stdout",
     "output_type": "stream",
     "text": [
      " 1843/10000 [====>.........................] - ETA: 1:07 - reward: -90.9541done, took 17.983 seconds\n"
     ]
    }
   ],
   "source": [
    "import tensorflow as tf\n",
    "with tf.device('/device:GPU:0'):\n",
    "    tf.keras.backend.clear_session()\n",
    "    model = build_model(states, actions)\n",
    "    dqn = build_agent(model, actions)\n",
    "    dqn.compile(Adam(lr=1e-3), metrics=['mae'])\n",
    "    history = dqn.fit(env, nb_steps=500000, visualize=False, verbose=1)"
   ]
  },
  {
   "cell_type": "code",
   "execution_count": null,
   "metadata": {},
   "outputs": [],
   "source": [
    "with tf.device('/device:GPU:0'):\n",
    "    _ = dqn.test(env, nb_episodes=20, visualize=False)"
   ]
  },
  {
   "cell_type": "markdown",
   "metadata": {},
   "source": [
    "# 4. Reloading Agent from Memory"
   ]
  },
  {
   "cell_type": "code",
   "execution_count": 23,
   "metadata": {},
   "outputs": [],
   "source": [
    "dqn.save_weights('models/StaircaseEnv_dqn_weights.h5f', overwrite=True)"
   ]
  },
  {
   "cell_type": "code",
   "execution_count": 52,
   "metadata": {},
   "outputs": [],
   "source": [
    "ENV= StaircaseEnv()\n",
    "actions = ENV.action_space.n\n",
    "states = ENV.observation_space.shape\n",
    "with tf.device('/device:GPU:0'):\n",
    "    tf.keras.backend.clear_session()\n",
    "    MODEL = build_model(states, actions)\n",
    "    DQN = build_agent(MODEL, actions)\n",
    "    DQN.compile(Adam(lr=1e-3), metrics=['mae'])\n",
    "    DQN.load_weights('models/StaircaseEnv_dqn_weights.h5f')"
   ]
  },
  {
   "cell_type": "code",
   "execution_count": 59,
   "metadata": {},
   "outputs": [],
   "source": [
    "with tf.device('/device:GPU:0'):\n",
    "    scores = DQN.test(ENV, nb_episodes=1000, visualize=False, verbose=0)"
   ]
  },
  {
   "cell_type": "code",
   "execution_count": 60,
   "metadata": {},
   "outputs": [
    {
     "name": "stdout",
     "output_type": "stream",
     "text": [
      "-----------------------------Mean episode reward = -11.428900000000002------------------------------\n",
      "------------------------------Average steps taken per episode = 19.963------------------------------\n"
     ]
    }
   ],
   "source": [
    "print(f\"Mean episode reward = {np.mean(scores.history['episode_reward'])}\".center(100,'-'))\n",
    "print(f\"Average steps taken per episode = {np.mean(scores.history['nb_steps'])}\".center(100,'-'))"
   ]
  }
 ],
 "metadata": {
  "kernelspec": {
   "display_name": "Python 3",
   "language": "python",
   "name": "python3"
  },
  "language_info": {
   "codemirror_mode": {
    "name": "ipython",
    "version": 3
   },
   "file_extension": ".py",
   "mimetype": "text/x-python",
   "name": "python",
   "nbconvert_exporter": "python",
   "pygments_lexer": "ipython3",
   "version": "3.8.12"
  }
 },
 "nbformat": 4,
 "nbformat_minor": 2
}
