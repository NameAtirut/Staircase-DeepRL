{
 "cells": [
  {
   "cell_type": "markdown",
   "metadata": {},
   "source": [
    "# 0. Install Dependencies"
   ]
  },
  {
   "cell_type": "code",
   "execution_count": null,
   "metadata": {
    "collapsed": true
   },
   "outputs": [],
   "source": [
    "!pip install tensorflow==2.3.0\n",
    "!pip install gym\n",
    "!pip install keras\n",
    "!pip install keras-rl2"
   ]
  },
  {
   "cell_type": "markdown",
   "metadata": {},
   "source": [
    "# 1. Test Random Environment with OpenAI Gym"
   ]
  },
  {
   "cell_type": "code",
   "execution_count": 2,
   "metadata": {},
   "outputs": [],
   "source": [
    "from gym import Env\n",
    "from gym.spaces import Discrete, Box\n",
    "import numpy as np\n",
    "import random\n",
    "# import cv2\n",
    "# import matplotlib.pyplot as plt"
   ]
  },
  {
   "cell_type": "code",
   "execution_count": 3,
   "metadata": {},
   "outputs": [],
   "source": [
    "class StaircaseEnv(Env):\n",
    "    \"\"\"The Staircase Environment as a random walking problem in a 1D space.\n",
    "    The goal is to reach the target state as fast as possible.\n",
    "    \"\"\"\n",
    "    def __init__(self):\n",
    "        ## Actions we can take\n",
    "        self.action_space = Discrete(7) # action space is initially defined as [0,6]\n",
    "        ## Observation array\n",
    "        self.observation_space = Box(low=np.array([0]),high=np.array([20]))\n",
    "        self.initial_state = 10\n",
    "        self.state = self.initial_state\n",
    "        self.num_step = 0 # initial num_step taken\n",
    "        \n",
    "        self.target = 10 + random.randint(-10,10) # a random target between [0, 20]\n",
    "        self.previous_dist = abs(self.state - self.target) # initial distance to target\n",
    "        \n",
    "    def step(self, action):\n",
    "        \"Perform an action and get the next state and reward\"\n",
    "        self.state += action-3 # scale action space to [-3,3]\n",
    "        self.num_step += 1 # increment num_step\n",
    "        reward = 0 - (0.1*self.num_step) # penalty for each step taken\n",
    "\n",
    "        ## Calculate reward based on distance to target\n",
    "        self.current_dist = abs(self.state - self.target)\n",
    "        if self.current_dist < self.previous_dist:\n",
    "            reward += 3 # reward for getting closer to target\n",
    "        else:\n",
    "            reward -= 1 # penalty for getting further away from target\n",
    "\n",
    "        self.previous_dist = self.current_dist # update previous distance\n",
    "        ## Check if the target is reached\n",
    "        if self.state == self.target:\n",
    "            done=True\n",
    "            reward += 5 # reward for reaching target\n",
    "        else:\n",
    "            done=False\n",
    "\n",
    "        ## Set a placeholder for info\n",
    "        info = {}\n",
    "\n",
    "        ## Return step information to the actor\n",
    "        return self.state,reward, done, info\n",
    "\n",
    "    def render(self):\n",
    "        # Implement viz\n",
    "        pass\n",
    "    \n",
    "    def reset(self):\n",
    "        \"Reset the environment\"\n",
    "        self.state = self.initial_state\n",
    "        self.num_step = 0\n",
    "        return self.state"
   ]
  },
  {
   "cell_type": "code",
   "execution_count": 4,
   "metadata": {},
   "outputs": [
    {
     "name": "stderr",
     "output_type": "stream",
     "text": [
      "c:\\Anaconda3\\envs\\RL\\lib\\site-packages\\gym\\spaces\\box.py:73: UserWarning: \u001b[33mWARN: Box bound precision lowered by casting to float32\u001b[0m\n",
      "  logger.warn(\n"
     ]
    }
   ],
   "source": [
    "env = StaircaseEnv()"
   ]
  },
  {
   "cell_type": "code",
   "execution_count": 5,
   "metadata": {},
   "outputs": [
    {
     "name": "stdout",
     "output_type": "stream",
     "text": [
      "13 steps taken\n",
      "Episode:1 Score:10.899999999999999\n",
      "88 steps taken\n",
      "Episode:2 Score:-334.6\n",
      "5 steps taken\n",
      "Episode:3 Score:6.5\n",
      "162 steps taken\n",
      "Episode:4 Score:-1209.3\n",
      "1 steps taken\n",
      "Episode:5 Score:3.9\n",
      "19 steps taken\n",
      "Episode:6 Score:-1.0000000000000009\n",
      "182 steps taken\n",
      "Episode:7 Score:-1506.3\n",
      "2 steps taken\n",
      "Episode:8 Score:6.699999999999999\n",
      "39 steps taken\n",
      "Episode:9 Score:-40.0\n",
      "6 steps taken\n",
      "Episode:10 Score:8.9\n"
     ]
    }
   ],
   "source": [
    "## Try walking naively without optimization for 10 times\n",
    "episodes = 10\n",
    "for episode in range(1, episodes+1):\n",
    "    state = env.reset()\n",
    "    done = False\n",
    "    score = 0 \n",
    "    while not done:\n",
    "        #env.render()\n",
    "        action = env.action_space.sample()\n",
    "        n_state,reward, done, info = env.step(action)\n",
    "        score+=reward\n",
    "    print(f'{env.num_step} steps taken')\n",
    "    print('Episode:{} Score:{}'.format(episode, score))"
   ]
  },
  {
   "cell_type": "markdown",
   "metadata": {},
   "source": [
    "# 2. Create a Deep Learning Model with Keras"
   ]
  },
  {
   "cell_type": "code",
   "execution_count": 6,
   "metadata": {},
   "outputs": [],
   "source": [
    "import numpy as np\n",
    "from tensorflow.keras.models import Sequential\n",
    "from tensorflow.keras.layers import Dense, Flatten, Dropout, LayerNormalization\n",
    "from tensorflow.keras.optimizers import Adam"
   ]
  },
  {
   "cell_type": "code",
   "execution_count": 9,
   "metadata": {},
   "outputs": [
    {
     "name": "stdout",
     "output_type": "stream",
     "text": [
      "(1,)\n"
     ]
    }
   ],
   "source": [
    "NUM_STATES = env.observation_space.shape\n",
    "NUM_ACTIONS = env.action_space.n\n",
    "print(NUM_STATES)"
   ]
  },
  {
   "cell_type": "code",
   "execution_count": 10,
   "metadata": {},
   "outputs": [],
   "source": [
    "def build_model(num_states, num_actions):\n",
    "    \"Define the model\"\n",
    "    initialiser = tf.keras.initializers.HeNormal(seed=42) # initialiser for the layers' kernel weights for numeric stability\n",
    "    model = Sequential()    \n",
    "    model.add(Dense(32, activation='relu', kernel_initializer=initialiser,input_shape=(num_states)))\n",
    "    model.add(LayerNormalization())\n",
    "    model.add(Dense(32, activation='relu',kernel_initializer=initialiser))\n",
    "    model.add(Dropout(0.2))\n",
    "    model.add(Dense(num_actions, activation='linear'))\n",
    "    return model"
   ]
  },
  {
   "cell_type": "markdown",
   "metadata": {},
   "source": [
    "# 3. Build Agent with Keras-RL"
   ]
  },
  {
   "cell_type": "code",
   "execution_count": 11,
   "metadata": {},
   "outputs": [],
   "source": [
    "from rl.agents import DQNAgent\n",
    "from rl.policy import BoltzmannQPolicy\n",
    "from rl.memory import SequentialMemory"
   ]
  },
  {
   "cell_type": "code",
   "execution_count": 12,
   "metadata": {},
   "outputs": [],
   "source": [
    "def build_agent(model, num_actions):\n",
    "    \"Define the agent to walk the environment\"\n",
    "    policy = BoltzmannQPolicy() # policy used to explore the environment (think of it as what the model will use to prioritize actions)\n",
    "    memory = SequentialMemory(limit=500000, window_length=1) # store the experience (helps with remembering the past experience)\n",
    "    dqn = DQNAgent(\n",
    "        model=model, \n",
    "        memory=memory,\n",
    "        policy=policy, \n",
    "        test_policy=policy, \n",
    "        enable_double_dqn=True,\n",
    "        nb_actions=num_actions, \n",
    "        nb_steps_warmup=1000, \n",
    "        target_model_update=1e-2\n",
    "        )\n",
    "    return dqn"
   ]
  },
  {
   "cell_type": "code",
   "execution_count": 15,
   "metadata": {},
   "outputs": [
    {
     "name": "stdout",
     "output_type": "stream",
     "text": [
      "Training for 100000 steps ...\n",
      "Interval 1 (0 steps performed)\n",
      "   32/10000 [..............................] - ETA: 33s - reward: -0.8969"
     ]
    },
    {
     "name": "stderr",
     "output_type": "stream",
     "text": [
      "C:\\Users\\namea\\AppData\\Roaming\\Python\\Python38\\site-packages\\keras\\engine\\training_v1.py:2079: UserWarning: `Model.state_updates` will be removed in a future version. This property should not be used in TensorFlow 2.0, as `updates` are applied automatically.\n",
      "  updates=self.state_updates,\n"
     ]
    },
    {
     "name": "stdout",
     "output_type": "stream",
     "text": [
      " 1726/10000 [====>.........................] - ETA: 1:15 - reward: -85.7640done, took 15.825 seconds\n"
     ]
    }
   ],
   "source": [
    "import tensorflow as tf\n",
    "\n",
    "## training hyperparameters (performance varies based on these and other parameters of the agents like policy, memory, warmup steps, etc.)\n",
    "lr = 1e-3 # learning rate\n",
    "hparams = {\n",
    "    'training_steps' : 100000,\n",
    "    'metrics': ['mae'],\n",
    "    'optimizer': Adam(lr),\n",
    "}\n",
    "\n",
    "# build and train faster under the GPU hardware\n",
    "with tf.device('/device:GPU:0'): # wrapper for the model to use the GPU\n",
    "    tf.keras.backend.clear_session() # clear the session before building the model each time (avoid continuing training from previous session)\n",
    "    model = build_model(num_states=NUM_STATES, num_actions=NUM_ACTIONS) # build the model\n",
    "    dqn = build_agent(model, num_actions=NUM_ACTIONS) # build the agent\n",
    "    dqn.compile(hparams['optimizer'], metrics=hparams['metrics']) # compile the agent using Mean Absolute Error as the loss function\n",
    "    history = dqn.fit(env, nb_steps=hparams['training_steps'], visualize=False, verbose=1) # Now we train the agent!"
   ]
  },
  {
   "cell_type": "code",
   "execution_count": null,
   "metadata": {},
   "outputs": [],
   "source": [
    "with tf.device('/device:GPU:0'):\n",
    "    _ = dqn.test(env, nb_episodes=20, visualize=False)"
   ]
  },
  {
   "cell_type": "code",
   "execution_count": 23,
   "metadata": {},
   "outputs": [],
   "source": [
    "dqn.save_weights('models/StaircaseEnv_dqn_weights.h5f', overwrite=True)"
   ]
  },
  {
   "cell_type": "markdown",
   "metadata": {},
   "source": [
    "# 4. Reloading Agent from Memory"
   ]
  },
  {
   "cell_type": "code",
   "execution_count": 52,
   "metadata": {},
   "outputs": [],
   "source": [
    "ENV= StaircaseEnv() # instantiate the environment again\n",
    "actions = ENV.action_space.n\n",
    "states = ENV.observation_space.shape\n",
    "with tf.device('/device:GPU:0'):\n",
    "    tf.keras.backend.clear_session()\n",
    "    MODEL = build_model(states, actions)\n",
    "    DQN = build_agent(MODEL, actions)\n",
    "    DQN.compile(Adam(lr=1e-3), metrics=['mae'])\n",
    "    DQN.load_weights('models/StaircaseEnv_dqn_weights.h5f')"
   ]
  },
  {
   "cell_type": "code",
   "execution_count": 59,
   "metadata": {},
   "outputs": [],
   "source": [
    "with tf.device('/device:GPU:0'):\n",
    "    scores = DQN.test(ENV, nb_episodes=1000, visualize=False, verbose=0)"
   ]
  },
  {
   "cell_type": "code",
   "execution_count": 60,
   "metadata": {},
   "outputs": [
    {
     "name": "stdout",
     "output_type": "stream",
     "text": [
      "-----------------------------Mean episode reward = -11.428900000000002------------------------------\n",
      "------------------------------Average steps taken per episode = 19.963------------------------------\n"
     ]
    }
   ],
   "source": [
    "print(f\"Mean episode reward = {np.mean(scores.history['episode_reward'])}\".center(100,'-'))\n",
    "print(f\"Average steps taken per episode = {np.mean(scores.history['nb_steps'])}\".center(100,'-'))"
   ]
  }
 ],
 "metadata": {
  "kernelspec": {
   "display_name": "Python 3.8.12 ('RL')",
   "language": "python",
   "name": "python3"
  },
  "language_info": {
   "codemirror_mode": {
    "name": "ipython",
    "version": 3
   },
   "file_extension": ".py",
   "mimetype": "text/x-python",
   "name": "python",
   "nbconvert_exporter": "python",
   "pygments_lexer": "ipython3",
   "version": "3.8.12"
  },
  "vscode": {
   "interpreter": {
    "hash": "5a81b45306d2beac38f46b9d31a35e9d79179e0e8472e9fc99bf0e51e2ee139c"
   }
  }
 },
 "nbformat": 4,
 "nbformat_minor": 2
}
